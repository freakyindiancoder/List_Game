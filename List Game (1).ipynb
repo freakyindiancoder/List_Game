{
 "cells": [
  {
   "cell_type": "code",
   "execution_count": 1,
   "metadata": {},
   "outputs": [],
   "source": [
    "#Function to Displays The current Game List\n",
    "def display_game(game_list):\n",
    "    print('The current game list is :')\n",
    "    print(game_list)"
   ]
  },
  {
   "cell_type": "code",
   "execution_count": 2,
   "metadata": {},
   "outputs": [],
   "source": [
    "#Function to Choose the position to update\n",
    "def pos_choice():\n",
    "    \n",
    "    choice = 'Wrong choice'\n",
    "    \n",
    "    while choice not in ['0','1','2']:\n",
    "        \n",
    "        choice = input('Enter your choice (0,1,2) ')\n",
    "        \n",
    "        if choice not in ['0','1','2']:\n",
    "            print(f'choice should be either (0,1,2): ')\n",
    "        else:\n",
    "            return int(choice)"
   ]
  },
  {
   "cell_type": "code",
   "execution_count": 3,
   "metadata": {},
   "outputs": [],
   "source": [
    "#Function to update game_list\n",
    "def replacement(game_list,position):\n",
    "    \n",
    "    replace = input('Enter the string to be replaced: ')\n",
    "    \n",
    "    game_list[position] = replace\n",
    "    print(game_list)\n",
    "    return game_list"
   ]
  },
  {
   "cell_type": "code",
   "execution_count": 4,
   "metadata": {},
   "outputs": [],
   "source": [
    "#Function to continue game or to end game\n",
    "def continue_game():\n",
    "    choice = 'wrong'\n",
    "    \n",
    "    while choice not in ['y','n']:\n",
    "        \n",
    "        choice = input('Do you wish to continue the game (y or n): ')\n",
    "        \n",
    "        if choice not in ['y','n']:\n",
    "            print('the choice should be y or n')\n",
    "    if choice == 'y':\n",
    "        return True\n",
    "    else:\n",
    "        return False"
   ]
  },
  {
   "cell_type": "code",
   "execution_count": 5,
   "metadata": {},
   "outputs": [
    {
     "name": "stdout",
     "output_type": "stream",
     "text": [
      "The current game list is :\n",
      "[0, 1, 2]\n",
      "Enter your choice (0,1,2) 2\n",
      "Enter the string to be replaced: hi\n",
      "[0, 1, 'hi']\n",
      "Do you wish to continue the game (y or n): n\n"
     ]
    }
   ],
   "source": [
    "#Now lets Build Logic of the Game\n",
    "game_on = True\n",
    "game_list = [0,1,2]\n",
    "\n",
    "#Unless the game_on == False the game will be continued:\n",
    "while game_on:\n",
    "    \n",
    "    #display the game list\n",
    "    display_game(game_list)\n",
    "    \n",
    "    #Assing the position to pos_choice or you can call directly\n",
    "    position = pos_choice()\n",
    "    \n",
    "    #Update the Game list Using the Position Chosen and Value given as input\n",
    "    game_list = replacement(game_list,position)\n",
    "    \n",
    "    #Ask user to continue or not and assign that boolean to game_on:(if true then game continue,if it is false game exits)\n",
    "    game_on = continue_game()"
   ]
  },
  {
   "cell_type": "code",
   "execution_count": null,
   "metadata": {},
   "outputs": [],
   "source": []
  }
 ],
 "metadata": {
  "kernelspec": {
   "display_name": "Python 3",
   "language": "python",
   "name": "python3"
  },
  "language_info": {
   "codemirror_mode": {
    "name": "ipython",
    "version": 3
   },
   "file_extension": ".py",
   "mimetype": "text/x-python",
   "name": "python",
   "nbconvert_exporter": "python",
   "pygments_lexer": "ipython3",
   "version": "3.8.3"
  }
 },
 "nbformat": 4,
 "nbformat_minor": 4
}
